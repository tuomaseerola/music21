{
  "nbformat": 4,
  "nbformat_minor": 0,
  "metadata": {
    "colab": {
      "name": "ScoreAnalysisTutorial.ipynb",
      "provenance": [],
      "collapsed_sections": [],
      "include_colab_link": true
    },
    "kernelspec": {
      "name": "python3",
      "display_name": "Python 3"
    },
    "language_info": {
      "name": "python"
    }
  },
  "cells": [
    {
      "cell_type": "markdown",
      "metadata": {
        "id": "view-in-github",
        "colab_type": "text"
      },
      "source": [
        "<a href=\"https://colab.research.google.com/github/tuomaseerola/music21/blob/master/ScoreAnalysisTutorial.ipynb\" target=\"_parent\"><img src=\"https://colab.research.google.com/assets/colab-badge.svg\" alt=\"Open In Colab\"/></a>"
      ]
    },
    {
      "cell_type": "markdown",
      "source": [
        "# **Music21 Score Analysis Tutorial**\n",
        "\n",
        "*Tuomas Eerola, Durham University*"
      ],
      "metadata": {
        "id": "a9t7MxklwMKM"
      }
    },
    {
      "cell_type": "markdown",
      "source": [
        "# **1 Build music21 environment in Colab**\n",
        "\n",
        "First we build the virtual machine needed to run music21 in our browser."
      ],
      "metadata": {
        "id": "kcsiaF3NwXOL"
      }
    },
    {
      "cell_type": "markdown",
      "source": [
        "### **1.1 Install Music21 and other elements needed to run the environment**\n",
        "Press play and wait for all commands to be executed - this initial command might take some time as it needs to build the musi21 environment."
      ],
      "metadata": {
        "id": "cPRISsx2wehr"
      }
    },
    {
      "cell_type": "code",
      "source": [
        "!pip install --upgrade music21\n",
        "!add-apt-repository ppa:mscore-ubuntu/mscore-stable -y\n",
        "!apt-get update\n",
        "!apt-get install musescore\n",
        "!apt-get install xvfb\n",
        "!sh -e /etc/init.d/x11-common start\n",
        "import os\n",
        "os.putenv('DISPLAY', ':99.0')\n",
        "!start-stop-daemon --start --pidfile /var/run/xvfb.pid --make-pidfile --background --exec /usr/bin/Xvfb -- :99 -screen 0 1024x768x24 -ac +extension GLX +render -noreset\n",
        "from music21 import *\n",
        "us = environment.UserSettings()\n",
        "us['musescoreDirectPNGPath'] = '/usr/bin/mscore'\n",
        "us['directoryScratch'] = '/tmp'"
      ],
      "metadata": {
        "id": "bI7LiDuuwm1Y",
        "collapsed": true
      },
      "execution_count": null,
      "outputs": []
    },
    {
      "cell_type": "markdown",
      "source": [
        "# 1.2 Let's check that our environment works"
      ],
      "metadata": {
        "id": "pi_5kXujxaiX"
      }
    },
    {
      "cell_type": "markdown",
      "source": [
        "We will do this by trying to import one of the scores available in the music21 corpus utilising the following commands:"
      ],
      "metadata": {
        "id": "lUt1GUrx00C4"
      }
    },
    {
      "cell_type": "code",
      "source": [
        "from music21 import * \n",
        "opus132 = corpus.parse('beethoven/opus132.mxl') # We \"parse\" one specific work from the corpus which in this case will be a work by Beethoven\n",
        "opus132.measures(1, 4).show() # This command lets us specify the number of bars (measures) we want to display, in this case we want to see bars 1 to 4"
      ],
      "metadata": {
        "id": "5YBeSoysxi1Z",
        "collapsed": true
      },
      "execution_count": null,
      "outputs": []
    },
    {
      "cell_type": "markdown",
      "source": [
        "# 2 Load music\n",
        "\n",
        "We will first try to load a score from the built-in corpus that comes with music21. To do this we will be using the same command as the one above. To be able to load a score, you need to know the name of the score.\n",
        "A list of available scores can be found at [http://web.mit.edu/music21/doc/about/referenceCorpus.html](http://web.mit.edu/music21/doc/about/referenceCorpus.html) and it contains a lot of *Bach*, some\n",
        "*Beethoven*, *Chopin*, *Handel*, *Haydn*, *Mozart*, *Palestrina*, *Monteverdi*, *Josquin des Prez*, *Schubert*,\n",
        "*Schumann* (both Clara and Robert) and thousands of folk songs."
      ],
      "metadata": {
        "id": "7aYjlhrBx-To"
      }
    },
    {
      "cell_type": "markdown",
      "source": [
        "# 2.1 Loading a score from the Music21 library"
      ],
      "metadata": {
        "id": "yTb44HxZyUxs"
      }
    },
    {
      "cell_type": "code",
      "source": [
        "from music21 import * # Every Music21 session will have to start with this definition\n",
        "opus133 = corpus.parse('beethoven/opus133.mxl') # We create an object and name it whatever we like - in this case \"opus133\" to match the score we will load, and then attribute the score loading command to it\n",
        "opus133.measures(1, 4).show() # Show the first 4 bars of the opus"
      ],
      "metadata": {
        "id": "Nu-OWAWQyaHE",
        "collapsed": true
      },
      "execution_count": null,
      "outputs": []
    },
    {
      "cell_type": "code",
      "source": [
        "opus133violin = opus133.getElementById('1st Violin') # We create a new object and select only the 1st violin part of the score\n",
        "opus133violin.measures(1,8).show() # We write this code to show the first 8 bars of the 1st violin"
      ],
      "metadata": {
        "id": "NuNuzYNxy6Fg",
        "collapsed": true
      },
      "execution_count": null,
      "outputs": []
    },
    {
      "cell_type": "markdown",
      "source": [
        "# **Learning Task**\n",
        "\n",
        "Edit the code (which is a copy of the above) to show the first 5 bars of only the Cello part for Opus 133.\n",
        "Remember to give the object a new name (rename from opus133violin)."
      ],
      "metadata": {
        "id": "7sQh4mFK2ME0"
      }
    },
    {
      "cell_type": "code",
      "source": [
        "opus133violin = opus133.getElementById('Cello') \n",
        "opus133violin.measures(1,5).show()"
      ],
      "metadata": {
        "id": "oeWu1-AI4p4H",
        "collapsed": true
      },
      "execution_count": null,
      "outputs": []
    },
    {
      "cell_type": "markdown",
      "source": [
        "# 2.2 Load a score from an online corpus\n",
        "\n",
        "You can also import any score from available online collections such as **kernscores** or **musedata**. As mentioned in last week's lecture, kernscores has 100,000+ scores available, which can be accessed here: http://kern.ccarh.org. Musescore is another source which has thousands of works, see http://www.musedata.org, and there\n",
        "is a new openscore initiative which holds vasts amounts of music, see https://musescore.com/openscore"
      ],
      "metadata": {
        "id": "ZldnbEt25Clc"
      }
    },
    {
      "cell_type": "code",
      "source": [
        "# Here's an example of how to load the Prelude from J.S. Bach's Suite No. 1 in G major from Kernscores:\n",
        "environment.set('autoDownload', 'allow') # We just allow the software to access the internet\n",
        "no1 = converter.parse('https://kern.humdrum.org/cgi-bin/ksdata?location=users/craig/classical/bach/cello&file=bwv1007-01.krn') \n",
        "no1.metadata.movementName=\"J.S. Bach Suite No. 1 in G major, BWV 1007\" # Add title\n",
        "no1.measures(1, 8).show() # show first 8 bars"
      ],
      "metadata": {
        "id": "sX_80t8y5qZN",
        "collapsed": true
      },
      "execution_count": null,
      "outputs": []
    },
    {
      "cell_type": "markdown",
      "source": [
        "# **2.3 Create a simple score**\n",
        "\n",
        "In Music21 you can also create simple scores using a shorthand called tinynotation. Below are some examples, first showing the time signature, then the notes with their note durations."
      ],
      "metadata": {
        "id": "fGZo54kQ_Mmm"
      }
    },
    {
      "cell_type": "code",
      "source": [
        "ex1 = converter.parse(\"tinynotation: 3/4 c4 e8 g a-16 g f# g c'2 r4\")\n",
        "ex1.show()\n"
      ],
      "metadata": {
        "id": "EecCdYIR_gwl",
        "collapsed": true
      },
      "execution_count": null,
      "outputs": []
    },
    {
      "cell_type": "markdown",
      "source": [
        "## Question #1\n",
        "\n",
        "Can you decipher what the numbers after the notes in the above code mean (c4, e8)? \n",
        "*Hint:* Music21 follows American terminologies e.g., half note = minim, quarter note = crotchet. "
      ],
      "metadata": {
        "id": "SNjvzD4N_1lC"
      }
    },
    {
      "cell_type": "code",
      "source": [
        "ex2 = converter.parse(\"tinynotation: 4/4 c4 c## cn c- c-- c trip{c8 d e}\")\n",
        "ex2.show()"
      ],
      "metadata": {
        "id": "0TUkH7UXAnFI",
        "collapsed": true
      },
      "execution_count": null,
      "outputs": []
    },
    {
      "cell_type": "markdown",
      "source": [
        "## Question #2\n",
        "\n",
        "How are sharp, flat, and neutral signs denoted in tinynotation? "
      ],
      "metadata": {
        "id": "ChRIxUoiA-V5"
      }
    },
    {
      "cell_type": "markdown",
      "source": [
        "# **Learning Task**\n",
        "\n",
        "Can you re-create the following sequence using tinynotation?\n",
        "*Hint:* To denote a C one octave higher than the middle C, add a ' after c. Remember to add the duration of the notes.\n",
        "\n",
        "![Screenshot 2022-01-20 at 16.12.12.png](data:image/png;base64,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)"
      ],
      "metadata": {
        "id": "k4sdMaMbBoAY"
      }
    },
    {
      "cell_type": "code",
      "source": [
        "ex3 = converter.parse(\"tinynotation: 4/4 c'2 \") #input the code to re-create the above sequence in the brackets (\"tinynotation: \"). The time signature and first note are provided.\n",
        "ex3.show()"
      ],
      "metadata": {
        "id": "08n1VV0gCjYe",
        "collapsed": true
      },
      "execution_count": null,
      "outputs": []
    },
    {
      "cell_type": "markdown",
      "source": [
        "# **Summary**\n",
        "\n",
        "\n",
        "\n",
        "*   You were able to run Music21 within the Colab environment.\n",
        "*   You loaded some music from the internal corpus of Music21.\n",
        "*   You noticed how you can select parts or measures of music.\n",
        "*   You could display them by using the show command.\n",
        "\n",
        "\n",
        "\n"
      ],
      "metadata": {
        "id": "_ASrbG8ADhgE"
      }
    },
    {
      "cell_type": "markdown",
      "source": [
        "# **3 Visualise Music**\n",
        "\n",
        "Let's look at some ways of summarising the musical content by producing visual representations of it."
      ],
      "metadata": {
        "id": "sXxwrnOkD1Ne"
      }
    },
    {
      "cell_type": "markdown",
      "source": [
        "First, let's import a score."
      ],
      "metadata": {
        "id": "seFHBIJGEeAL"
      }
    },
    {
      "cell_type": "code",
      "source": [
        "from music21 import *\n",
        "schoenberg = corpus.parse('schoenberg/opus19', 2) #command to input the second movement of Opus 19\n",
        "schoenberg.measures(1, 5).show() # Command to show the first five bars"
      ],
      "metadata": {
        "id": "w_O5VfYVEBo6",
        "collapsed": true
      },
      "execution_count": null,
      "outputs": []
    },
    {
      "cell_type": "markdown",
      "source": [
        "# **3.1 Visualise the raw note events**"
      ],
      "metadata": {
        "id": "zRb-LJY5ELu5"
      }
    },
    {
      "cell_type": "markdown",
      "source": [
        "We will now look at a piano roll representation of the first 5 bars of our score with the below command."
      ],
      "metadata": {
        "id": "OY9SVr90EhtH"
      }
    },
    {
      "cell_type": "code",
      "source": [
        "schoenberg.measures(1, 5).plot()"
      ],
      "metadata": {
        "id": "_xgmWRgvEOlW",
        "collapsed": true
      },
      "execution_count": null,
      "outputs": []
    },
    {
      "cell_type": "markdown",
      "source": [
        "# **3.2 Summary of note and duration frequencies**\n",
        "\n",
        "We can also look at the distribution of pitches (pitch-class distribution) in a histogram."
      ],
      "metadata": {
        "id": "QeoS7ruwFBF4"
      }
    },
    {
      "cell_type": "code",
      "source": [
        "schoenberg.plot('histogram', 'pitchClass')"
      ],
      "metadata": {
        "id": "Y_B_SVfmFOHi",
        "collapsed": true
      },
      "execution_count": null,
      "outputs": []
    },
    {
      "cell_type": "markdown",
      "source": [
        "## Question #3\n",
        "\n",
        "What is the above histogram telling us?"
      ],
      "metadata": {
        "id": "Sw8Tjn4GFYYD"
      }
    },
    {
      "cell_type": "markdown",
      "source": [
        "We can also look at the relationship between pitch class and note durations using a scatter plot."
      ],
      "metadata": {
        "id": "u7O9tB-vGUlS"
      }
    },
    {
      "cell_type": "code",
      "source": [
        "p = graph.plot.ScatterWeightedPitchClassQuarterLength(schoenberg)\n",
        "p.run()"
      ],
      "metadata": {
        "id": "6TGfXsgIFmq1",
        "collapsed": true
      },
      "execution_count": null,
      "outputs": []
    },
    {
      "cell_type": "markdown",
      "source": [
        "# **3.3 Summary over time**"
      ],
      "metadata": {
        "id": "s5IK7SA3IFg1"
      }
    },
    {
      "cell_type": "markdown",
      "source": [
        "Rather than looking at an accumulation of the notes, we can look at the pitch classes used over a number of bars, with the following command:"
      ],
      "metadata": {
        "id": "i6FXrMc-IPt6"
      }
    },
    {
      "cell_type": "code",
      "source": [
        "schoenberg.plot('scatter', 'measure', 'pitchClass')"
      ],
      "metadata": {
        "id": "DxSkru4nIItL",
        "collapsed": true
      },
      "execution_count": null,
      "outputs": []
    },
    {
      "cell_type": "markdown",
      "source": [
        "# **3.4 Visualise dynamics**"
      ],
      "metadata": {
        "id": "j41gQjkjIm4y"
      }
    },
    {
      "cell_type": "markdown",
      "source": [
        "We can also look at the dynamics levels and their variations of the different instruments in a work. Let's use Beethoven's Opus 133 again to visualise the dynamics variations of the different instruments."
      ],
      "metadata": {
        "id": "oer-3tfSI9fc"
      }
    },
    {
      "cell_type": "code",
      "source": [
        "beethoven = corpus.parse('beethoven/opus133.xml')\n",
        "beethoven.measures(1,62).plot('dolan', fillByMeasure=True, segmentByTarget=True)"
      ],
      "metadata": {
        "id": "nCSun8gyIpW_",
        "collapsed": true
      },
      "execution_count": null,
      "outputs": []
    },
    {
      "cell_type": "markdown",
      "source": [
        "# **Learning Task**\n",
        "\n",
        "Can you compare the pitch distributions of the Schoenberg and Beethoven examples (objects opus133 and schoenberg)? Note that you can visualise the pitches by using the keyword pitch:\n",
        "schoenberg.plot('histogram', 'pitch')\n",
        "\n",
        "## Question #4\n",
        "Answer after computing the above."
      ],
      "metadata": {
        "id": "G6OdzCBoLsny"
      }
    },
    {
      "cell_type": "code",
      "source": [
        " #input command here to plot the schoenberg piece as a histogram"
      ],
      "metadata": {
        "id": "COetHcEVMHm4",
        "collapsed": true
      },
      "execution_count": null,
      "outputs": []
    },
    {
      "cell_type": "code",
      "source": [
        " #input command here to plot the beethoven piece (opus133) as a histogram"
      ],
      "metadata": {
        "id": "UjCF9qs9MHwf",
        "collapsed": true
      },
      "execution_count": null,
      "outputs": []
    },
    {
      "cell_type": "markdown",
      "source": [
        "# **Summary**\n",
        "\n",
        "* You were able to display the raw events of a musical piece by using the pianoroll.\n",
        "* Examples of simple visual summaries were introduced (pitch-class distribution, durations, etc.).\n",
        "* There are plenty of other visualisations available, but let's move on to analysis."
      ],
      "metadata": {
        "id": "jjFrE1boMihO"
      }
    },
    {
      "cell_type": "markdown",
      "source": [
        "# **4 Analyse Music**\n",
        "\n",
        "Let's now look at some of the analytical qualities of Music21.\n",
        "\n",
        "### **4.1 Qualities of chords**\n",
        "\n",
        "`Music21` can infer a lot of information from stacks of pitches, that is, chords. They are such an important concept for music theory and analysis, so it is only natural that the software has a lot of options to deal with chords. "
      ],
      "metadata": {
        "id": "w4u8TnQKMzHq"
      }
    },
    {
      "cell_type": "markdown",
      "source": [
        "We can build our own chords in Music21:"
      ],
      "metadata": {
        "id": "H4BBeWbzPWf5"
      }
    },
    {
      "cell_type": "code",
      "source": [
        "chord1 = chord.Chord([\"C4\",\"G4\",\"E5\"]) # chord.Chord is the function needed to create our chord. In the square brackets we write down the pitches of the notes that will make up our chord.\n",
        "chord1.duration.type = 'half' # duration of chord - remember this is in American terminology\n",
        "kc = key.Key('C') # key (optional but useful later)\n",
        "chord1B = chord1.closedPosition() # A variant in closed position\n",
        "\n",
        "chord2 = chord.Chord(\"C F A\")\n",
        "chord2.duration.type = 'half'\n",
        "\n",
        "chord3 = chord.Chord(\"D F G B\")\n",
        "chord3.duration.type = 'half'\n",
        "\n",
        "chord1.show()"
      ],
      "metadata": {
        "id": "b6VBknORPatk",
        "collapsed": true
      },
      "execution_count": null,
      "outputs": []
    },
    {
      "cell_type": "code",
      "source": [
        "chord2.show()"
      ],
      "metadata": {
        "id": "-3xMskyjPu7S",
        "collapsed": true
      },
      "execution_count": null,
      "outputs": []
    },
    {
      "cell_type": "code",
      "source": [
        "chord3.show()"
      ],
      "metadata": {
        "id": "76LE7WJVPxTS",
        "collapsed": true
      },
      "execution_count": null,
      "outputs": []
    },
    {
      "cell_type": "markdown",
      "source": [
        "We can find out useful things about any of the chords with the following commands:"
      ],
      "metadata": {
        "id": "Ro1vnpecQBI1"
      }
    },
    {
      "cell_type": "code",
      "source": [
        "chord3.show()\n",
        "print(chord3.commonName)\n",
        "print(chord3.quality)\n",
        "print(chord3.forteClass)\n",
        "print(chord3.orderedPitchClasses)"
      ],
      "metadata": {
        "id": "qLRs53J9Pzb_",
        "collapsed": true
      },
      "execution_count": null,
      "outputs": []
    },
    {
      "cell_type": "code",
      "source": [
        "# We can analyse the chords in a key context (the one we denoted earlier) and put the roman names into the score:\n",
        "chord1.lyric = roman.romanNumeralFromChord(chord1, kc).figure\n",
        "chord2.lyric= roman.romanNumeralFromChord(chord2, kc).figure\n",
        "chord3.lyric= roman.romanNumeralFromChord(chord3, kc).figure\n",
        "chord1B.lyric= roman.romanNumeralFromChord(chord1B, kc).figure\n",
        "\n",
        "# Let's append the chords into a stream and look at the score with roman numerals.\n",
        "stream1 = stream.Stream()\n",
        "stream1.append(chord1)\n",
        "stream1.append(chord2)\n",
        "stream1.append(chord3)\n",
        "stream1.append(chord1B)\n",
        "stream1.show()"
      ],
      "metadata": {
        "id": "z5GmvSZxQQdD",
        "collapsed": true
      },
      "execution_count": null,
      "outputs": []
    },
    {
      "cell_type": "markdown",
      "source": [
        "# **Learning Task:**\n",
        "\n",
        "Change the pitches of chord2 to C, Eb, and A, and use the print(chord2.commonName) function to see the label Music21 attributes to the chord.\n",
        "\n",
        "## Question #5\n",
        "What is the label of chord2? "
      ],
      "metadata": {
        "id": "FU_d4gG9QkVN"
      }
    },
    {
      "cell_type": "code",
      "source": [
        "chord2 = chord.Chord(\"C F A\") #change notes\n",
        "chord2.duration.type = 'half'\n",
        "\n",
        "chord2.show()\n",
        "\n",
        "print(chord2.commonName)"
      ],
      "metadata": {
        "id": "vOl7LT1-Q3tr",
        "collapsed": true
      },
      "execution_count": null,
      "outputs": []
    },
    {
      "cell_type": "markdown",
      "source": [
        "### 4.2 Chord analysis\n",
        "Let's now look at some harmonic analysis."
      ],
      "metadata": {
        "id": "FFbRG-eBRnXW"
      }
    },
    {
      "cell_type": "code",
      "source": [
        "# You are all experts in analysis of Bach chorales, so let's try to analyse them.\n",
        "b = corpus.parse('bwv66.6') # We load a Bach Chorale BWV 66\n",
        "b.measures(0, 2).show() # Let's look at the first bars\n",
        "\n",
        "# Slice the chords for each beat with chordify\n",
        "bChords = b.chordify()\n",
        "bChords.metadata.movementName = 'Chord reduction'         # Put a label to the score\n",
        "bChords.measures(0, 2).show()\n",
        "\n",
        "\n",
        "for c in bChords.recurse().getElementsByClass('Chord'):   # This is a command used to simplify the chords\n",
        "    c.closedPosition(forceOctave=4, inPlace=True)\n",
        "\n",
        "for c in bChords.recurse().getElementsByClass('Chord'):   # This is where the analysis happens\n",
        "    rn = roman.romanNumeralFromChord(c, key.Key('A'))     # We want to see the roman numerals for the different chords\n",
        "    c.addLyric(str(rn.figure))\n",
        "\n",
        "bChords.metadata.movementName = 'Analysis with Roman Numerals' #Add a title \n",
        "bChords.measures(0,2).show() # Show the result"
      ],
      "metadata": {
        "id": "nWCXapt2Ruli",
        "collapsed": true
      },
      "execution_count": null,
      "outputs": []
    },
    {
      "cell_type": "markdown",
      "source": [
        "### 4.3 Metrical analysis\n",
        "Moving on to the temporal aspects of music, *Music21* has build-in metrical analysis module, which does Lerdahl-Jackendoff style metrical analysis. As you remember from your first year Analysis Module, this indicates how important are the different beats in the metrical hierarchy suggested by the time-signature."
      ],
      "metadata": {
        "id": "rFYZm6JbSrSf"
      }
    },
    {
      "cell_type": "code",
      "source": [
        "# Visualise metrical structures\n",
        "from music21.analysis import metrical\n",
        "\n",
        "# load a Bach Chorale from the music21 corpus of supplied pieces\n",
        "bwv30_6 = corpus.parse('bach/bwv30.6.xml')\n",
        "# get just the bass part\n",
        "bass = bwv30_6.getElementById('Bass')\n",
        "# get measures 1 through 10\n",
        "excerpt = bass.measures(1,10)\n",
        "# apply a Lerdahl/Jackendoff-style metrical analysis to the piece.\n",
        "metrical.labelBeatDepth(excerpt)\n",
        "# display the results\n",
        "excerpt.show()"
      ],
      "metadata": {
        "id": "ICWCGLJeSs0s",
        "collapsed": true
      },
      "execution_count": null,
      "outputs": []
    },
    {
      "cell_type": "markdown",
      "source": [
        "### Summary\n",
        "* We explored simple harmonic analysis using chord and reduction functions in *Music21*.\n",
        "* An example of metrical analysis was given. \n",
        "* In *Music21* you can combine analytical options, which might be used to carry out a reduction of music based on metrical hierarchy just to give an example."
      ],
      "metadata": {
        "id": "xMmJq_HGS_2h"
      }
    },
    {
      "cell_type": "markdown",
      "source": [
        "## **5 References**\n",
        "\n",
        "* Cuthbert, M. S., & Ariza, C. (2010). music21: A Toolkit for Computer-Aided Musicology and Symbolic Music Data. In J. Stephen Downie and Remco C. Veltkamp (Eds.). 11th International Society for Music Information Retrieval Conference (ISMIR 2010), August 9-13, 2010, Utrecht, Netherlands. pp. 637-642. [link](http://ismir2010.ismir.net/proceedings/ismir2010-108.pdf)\n",
        "\n",
        "* Cuthbert, M. S., Ariza, C., & Friedland, L. (2011). Feature Extraction and Machine Learning on Symbolic Music using the music21 Toolkit. In 11th International Society for Music Information Retrieval Conference (ISMIR 2011) (pp. 387--392). [link](http://ismir2011.ismir.net/papers/PS3-6.pdf)\n"
      ],
      "metadata": {
        "id": "cZqixeBjTFf9"
      }
    }
  ]
}
