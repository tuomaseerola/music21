!pip install --upgrade music21
