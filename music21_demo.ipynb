{
  "nbformat": 4,
  "nbformat_minor": 0,
  "metadata": {
    "kernelspec": {
      "display_name": "Python 3",
      "language": "python",
      "name": "python3"
    },
    "language_info": {
      "codemirror_mode": {
        "name": "ipython",
        "version": 3
      },
      "file_extension": ".py",
      "mimetype": "text/x-python",
      "name": "python",
      "nbconvert_exporter": "python",
      "pygments_lexer": "ipython3",
      "version": "3.7.2"
    },
    "colab": {
      "name": "music21_demo.ipynb",
      "provenance": [],
      "toc_visible": true,
      "include_colab_link": true
    }
  },
  "cells": [
    {
      "cell_type": "markdown",
      "metadata": {
        "id": "view-in-github",
        "colab_type": "text"
      },
      "source": [
        "<a href=\"https://colab.research.google.com/github/tuomaseerola/music21/blob/master/music21_demo.ipynb\" target=\"_parent\"><img src=\"https://colab.research.google.com/assets/colab-badge.svg\" alt=\"Open In Colab\"/></a>"
      ]
    },
    {
      "cell_type": "markdown",
      "metadata": {
        "id": "Lgi6eKxTS-5e",
        "colab_type": "text"
      },
      "source": [
        "# Music21 Tutorial\n",
        "\n",
        "## Music and Science (Year 2 UG Module)\n",
        "\n",
        "January 2020, Tuomas Eerola, Durham University, UK\n",
        "\n",
        "## 1 Introduction\n",
        "\n",
        "*Music21* is a Python “toolkit for analyzing, searching, and transforming music in symbolic (score-based) forms” (Cuthbert 2010). It is a very powerful musicological tool which has been used for various analytical tasks (Cuthbert 2011) and rhythm extraction in polyphonic music (Levé el al. 2011). *Music21* reads files in the humdrum and MusicXML formats, which makes large corpora of music such as CCARH’s Kern Scores collection (https://kern.ccarh.org/)  available. Together with *IPython* (Pérez; Granger 2007), an advanced Python shell, *Music21* is an appealing environment to explore, analyze and process music interactively.\n",
        "\n",
        "*Music21* has an excellent web-site, which contains instructions from installation to complex musical analyses: http://web.mit.edu/music21/\n",
        "\n",
        "This tutorial is my adaptation of the easy and basic demonstrations available in *Music21 User's Guide (http://web.mit.edu/music21/doc/usersGuide/index.html), although I have customised all examples to be concise and relevant for this Module.\n",
        "\n",
        "### 1.2 Basics\n",
        "\n",
        "Music21 runs in *python* (preferably in Python 3), which is versatile and open programming environment that is freely available for all operating systems. Python is considered as one of the easiest languages to learn and is often taught as a first programming language. You don’t need to be a seasoned programmer; just a little bit of Python and you will be able to get started and explore music in new ways with *music21*.\n",
        "\n",
        "In our facilities, we have set the latest Python and *Music21* in the machines. Therefore it should be really easy to start using *Music21*. In this demo, you have already launched music21 using a so-called \"jupyter notebook\" that gives you this dynamic notebook that you are seeing right now, where you can see separate `code blocks`, run them easily, and you can also alter the commands and see the results added to the web page. *music21* assumes that musescore or some other (finale, lilypond) music21 compatible notation software is installed in your machine.\n",
        "\n",
        "You will not be an expert in *music21* after single session of course, but at least these demos will give you ideas how music can be analysed with the help of computer tools such as *music21*.\n",
        "\n",
        "*Terminologies*. *Music21* has been created and maintained by a team at Harvard University, led by Michael Cuthbert. For this reason, the note durations (\"half and quarter notes\" in US) and bars (\"measures\" in US) and many other technical terms may seem unfamiliar to British readers, but I'm sure you are able to cope with this.\n",
        "\n",
        "### 1.3 Learning Tasks\n",
        "\n",
        "*In this document we will use bright blue color sections as prompts for LEARNING TASKS where you are asked to modify the commands to make the program to do something else in order to learn how it works.*"
      ]
    },
    {
      "cell_type": "markdown",
      "metadata": {
        "id": "r1IlrFacTh-0",
        "colab_type": "text"
      },
      "source": [
        "## 2 Build music21 environment in Colab\n",
        "\n",
        "First we build a virtual machine that will be able run music21 in your browser."
      ]
    },
    {
      "cell_type": "code",
      "metadata": {
        "id": "8SFgLBh5Tr5b",
        "colab_type": "code",
        "colab": {}
      },
      "source": [
        "!pip install --upgrade music21"
      ],
      "execution_count": 0,
      "outputs": []
    },
    {
      "cell_type": "code",
      "metadata": {
        "id": "6Tg8NSQeTuxT",
        "colab_type": "code",
        "colab": {}
      },
      "source": [
        "!add-apt-repository ppa:mscore-ubuntu/mscore-stable -y\n",
        "!apt-get update\n",
        "!apt-get install musescore"
      ],
      "execution_count": 0,
      "outputs": []
    },
    {
      "cell_type": "code",
      "metadata": {
        "id": "dYYKOVYnTxMj",
        "colab_type": "code",
        "colab": {}
      },
      "source": [
        "!apt-get install xvfb"
      ],
      "execution_count": 0,
      "outputs": []
    },
    {
      "cell_type": "code",
      "metadata": {
        "id": "E4Wgy5sKTzm7",
        "colab_type": "code",
        "colab": {}
      },
      "source": [
        "!sh -e /etc/init.d/x11-common start"
      ],
      "execution_count": 0,
      "outputs": []
    },
    {
      "cell_type": "code",
      "metadata": {
        "id": "EfVpLq2LT1hD",
        "colab_type": "code",
        "colab": {}
      },
      "source": [
        "import os\n",
        "os.putenv('DISPLAY', ':99.0')"
      ],
      "execution_count": 0,
      "outputs": []
    },
    {
      "cell_type": "code",
      "metadata": {
        "id": "9NVNhb0UT39S",
        "colab_type": "code",
        "colab": {}
      },
      "source": [
        "!start-stop-daemon --start --pidfile /var/run/xvfb.pid --make-pidfile --background --exec /usr/bin/Xvfb -- :99 -screen 0 1024x768x24 -ac +extension GLX +render -noreset\n"
      ],
      "execution_count": 0,
      "outputs": []
    },
    {
      "cell_type": "code",
      "metadata": {
        "id": "lK4G5yqyT7B0",
        "colab_type": "code",
        "colab": {}
      },
      "source": [
        "from music21 import *\n",
        "us = environment.UserSettings()\n",
        "us['musescoreDirectPNGPath'] = '/usr/bin/mscore'\n",
        "us['directoryScratch'] = '/tmp'"
      ],
      "execution_count": 0,
      "outputs": []
    },
    {
      "cell_type": "markdown",
      "metadata": {
        "id": "ueLACcb2S-5g",
        "colab_type": "text"
      },
      "source": [
        "## 3 Load music\n",
        "\n",
        "You can load any of the thousands of scores that come with *music21*. A list of available scores is available at http://web.mit.edu/music21/doc/about/referenceCorpus.html and it contains a lot of Bach, some Beethoven, Chopin, Handel, Haydn, Mozart, Palestrina, Monteverdi, Josquin des Prez, Schubert, Schumann (both Clara and Robert) and thousands of folk songs."
      ]
    },
    {
      "cell_type": "markdown",
      "metadata": {
        "id": "b29QsYVfS-5h",
        "colab_type": "text"
      },
      "source": [
        "### 3.1 Load a score from build-in corpus in Music21"
      ]
    },
    {
      "cell_type": "code",
      "metadata": {
        "id": "9eZRRjdiS-5i",
        "colab_type": "code",
        "colab": {}
      },
      "source": [
        "from music21 import * # Every Music21 session will have to start with this definition\n",
        "opus133 = corpus.parse('beethoven/opus133.mxl') # we \"parse\" one specific work from the corpus\n",
        "opus133.measures(1, 4).show() # Show first 4 bars"
      ],
      "execution_count": 0,
      "outputs": []
    },
    {
      "cell_type": "code",
      "metadata": {
        "id": "IG-skhqsS-5m",
        "colab_type": "code",
        "colab": {}
      },
      "source": [
        "opus133violin = opus133.getElementById('1st Violin') # just select the 1st violin part \n",
        "opus133violin.measures(1,8).show() # let's look at first 8 bars "
      ],
      "execution_count": 0,
      "outputs": []
    },
    {
      "cell_type": "markdown",
      "metadata": {
        "id": "2ToYcVNbS-5q",
        "colab_type": "text"
      },
      "source": [
        "### 3.2 Load a score from online corpus\n",
        "You can also take any score from online collections such as **kernscores** or **musedata**. For instance, *Kernscores* has over 100,000 scores available, see http://kern.ccarh.org, and musescore has thousands of works, see http://www.musedata.org, and there is a new openscore initiative which holds vasts amounts of music, see https://musescore.com/openscore"
      ]
    },
    {
      "cell_type": "code",
      "metadata": {
        "id": "HIl4WtS_S-5r",
        "colab_type": "code",
        "colab": {}
      },
      "source": [
        "# Here's an example of how to load J.S. Bach Suite No. 1 in G major from internet:\n",
        "environment.set('autoDownload', 'allow') # We just allow the software to access internet\n",
        "no1 = converter.parse('http://kern.ccarh.org/cgi-bin/ksdata?l=cc/bach/cello&file=bwv1007-01.krn&f=xml')\n",
        "no1.metadata.movementName=\"J.S. Bach Suite No. 1 in G major, BWV 1007\" # Add title\n",
        "no1.measures(1, 2).show() # show first 2 bars"
      ],
      "execution_count": 0,
      "outputs": []
    },
    {
      "cell_type": "markdown",
      "metadata": {
        "id": "60HpI58uS-5v",
        "colab_type": "text"
      },
      "source": [
        "### 3.3 Create simple score"
      ]
    },
    {
      "cell_type": "code",
      "metadata": {
        "id": "vG1oOwsQS-5w",
        "colab_type": "code",
        "colab": {}
      },
      "source": [
        "# You can create simple scores using a shorthand called tinynotation:\n",
        "ex1 = converter.parse(\"tinynotation: 3/4 c4 e8 g a-16 g f# g c'2 r4\")\n",
        "ex1.show()\n",
        "ex2 = converter.parse('tinyNotation: 4/4 c4 c## cn c- c-- c trip{c8 d e}')\n",
        "ex2.show()"
      ],
      "execution_count": 0,
      "outputs": []
    },
    {
      "cell_type": "markdown",
      "metadata": {
        "id": "IpUst89IS-51",
        "colab_type": "text"
      },
      "source": [
        "#### LEARNING TASK 1\n",
        "\n",
        "*Can you create the theme from \"From Heaven Above to Earth I Come\" using tinynotation?*\n",
        "\n",
        "![](https://hymnary.org/flexscore/CWLH1993/38/LargePrint.png)"
      ]
    },
    {
      "cell_type": "code",
      "metadata": {
        "id": "3wQk65_YS-53",
        "colab_type": "code",
        "colab": {}
      },
      "source": [
        "ex1 = converter.parse(\"tinynotation:  c'2\") # I'll give you the starting note\n",
        "ex1.show()"
      ],
      "execution_count": 0,
      "outputs": []
    },
    {
      "cell_type": "markdown",
      "metadata": {
        "id": "Xrtngh3xS-56",
        "colab_type": "text"
      },
      "source": [
        "#### Summary\n",
        "* You were able to run *Music21* within the dynamic workbook (this document).\n",
        "* You were also able to load some music from the internal corpus that comes with *Music21*.\n",
        "* You noticed how you can *select* **parts** or **measures** of music.\n",
        "* You could display the using **show** command.\n"
      ]
    },
    {
      "cell_type": "markdown",
      "metadata": {
        "id": "LKohOFPpS-58",
        "colab_type": "text"
      },
      "source": [
        "## 4 Visualise music\n",
        "Let's look at some ways of summarising the musical content."
      ]
    },
    {
      "cell_type": "code",
      "metadata": {
        "id": "chXb36mJS-59",
        "colab_type": "code",
        "colab": {}
      },
      "source": [
        "from music21 import *\n",
        "schoenberg = corpus.parse('schoenberg/opus19', 2)\n",
        "schoenberg.measures(1, 6).show() # Show first 4 bars"
      ],
      "execution_count": 0,
      "outputs": []
    },
    {
      "cell_type": "markdown",
      "metadata": {
        "id": "wes8c7_mS-6A",
        "colab_type": "text"
      },
      "source": [
        "### 4.1 Visualise raw note events"
      ]
    },
    {
      "cell_type": "code",
      "metadata": {
        "id": "l43pB0ExS-6B",
        "colab_type": "code",
        "colab": {}
      },
      "source": [
        "# Let's look at the pianoroll representation of the 2nd mov.\n",
        "schoenberg.measures(1, 10).plot() # Piano roll"
      ],
      "execution_count": 0,
      "outputs": []
    },
    {
      "cell_type": "markdown",
      "metadata": {
        "id": "vPy94IkdS-6E",
        "colab_type": "text"
      },
      "source": [
        "### 4.3 Summary of note and duration frequencies"
      ]
    },
    {
      "cell_type": "code",
      "metadata": {
        "id": "23vn3me1S-6F",
        "colab_type": "code",
        "colab": {}
      },
      "source": [
        "# What about the distributions of pitches (pitch-class distribution)? \n",
        "schoenberg.plot('histogram', 'pitchClass') # Easy."
      ],
      "execution_count": 0,
      "outputs": []
    },
    {
      "cell_type": "code",
      "metadata": {
        "id": "CwrEroWeS-6H",
        "colab_type": "code",
        "colab": {}
      },
      "source": [
        "# What about durations and pitch-classes? Are they organised in a particular fashion?\n",
        "p = graph.plot.ScatterWeightedPitchClassQuarterLength(schoenberg) # A bit more arcane but understandable.\n",
        "p.run()"
      ],
      "execution_count": 0,
      "outputs": []
    },
    {
      "cell_type": "markdown",
      "metadata": {
        "id": "b6UYODPxS-6K",
        "colab_type": "text"
      },
      "source": [
        "### 4.3 Summary over time"
      ]
    },
    {
      "cell_type": "code",
      "metadata": {
        "id": "ijTcLUoGS-6L",
        "colab_type": "code",
        "colab": {}
      },
      "source": [
        "# How are the pitch-classes organised across time?\n",
        "schoenberg.plot('scatter', 'measure', 'pitchClass') # This is a variant of the command above."
      ],
      "execution_count": 0,
      "outputs": []
    },
    {
      "cell_type": "markdown",
      "metadata": {
        "id": "I_CeI8oBS-6O",
        "colab_type": "text"
      },
      "source": [
        "### 4.4 Visualise dynamics"
      ]
    },
    {
      "cell_type": "code",
      "metadata": {
        "id": "f9mjJ9T4S-6O",
        "colab_type": "code",
        "colab": {}
      },
      "source": [
        "# Visualise the dynamics\n",
        "beethoven = corpus.parse('beethoven/opus133.mxl')\n",
        "beethoven.measures(1,62).plot('dolan', fillByMeasure=True, segmentByTarget=True)"
      ],
      "execution_count": 0,
      "outputs": []
    },
    {
      "cell_type": "markdown",
      "metadata": {
        "id": "0zRBusWNS-6S",
        "colab_type": "text"
      },
      "source": [
        "#### LEARNING TASK 2\n",
        "\n",
        "*Can you compare the pitch distributions of the Schoenberg and Beethoven examples? Note that you can visualise all pitches simply by using the keyword pitch:* \n",
        "\n",
        "`schoenberg.plot('histogram', 'pitch')`\n",
        "\n",
        "\n"
      ]
    },
    {
      "cell_type": "code",
      "metadata": {
        "id": "uK1pbq8cS-6S",
        "colab_type": "code",
        "colab": {}
      },
      "source": [
        "# write you command here...\n"
      ],
      "execution_count": 0,
      "outputs": []
    },
    {
      "cell_type": "markdown",
      "metadata": {
        "id": "RljRYv35S-6V",
        "colab_type": "text"
      },
      "source": [
        "#### Summary\n",
        "* You were able to display the raw events of music (pianoroll).\n",
        "* Examples of simple visual summaries were introduced (pitch-class distribution, durations, etc.).\n",
        "* There are plenty of other visualisations available, but let's move on to analysis."
      ]
    },
    {
      "cell_type": "markdown",
      "metadata": {
        "id": "ZLbm1Nt1S-6W",
        "colab_type": "text"
      },
      "source": [
        "## 5 Analyse music\n",
        "\n",
        "So far we have not been able to much more than an advanced music sequencer might have been able to do to visualise and select parts of music. Let's turn our attention to the analytical qualities of *Music21*.\n",
        "\n",
        "### 5.1 Qualities of chords\n",
        "\n",
        "*Music21* can infer a lot of information from stacks of pitches, that is, chords. They are such an important concept for music theory and analysis, so it is only natural that the software has a lot of optional to deal with chords. "
      ]
    },
    {
      "cell_type": "code",
      "metadata": {
        "scrolled": false,
        "id": "esRJxil6S-6X",
        "colab_type": "code",
        "colab": {}
      },
      "source": [
        "# Let's put some pitches together to form three chords:\n",
        "chord1 = chord.Chord([\"C4\",\"G4\",\"E5\"]) # pitches\n",
        "chord1.duration.type = 'half'          # duration\n",
        "kc = key.Key('C')                      # key (optional but useful later)\n",
        "chord1B = chord1.closedPosition()      # A variant in closed position\n",
        "\n",
        "chord2 = chord.Chord(\"C F A\")\n",
        "chord2.duration.type = 'half'\n",
        "\n",
        "chord3 = chord.Chord(\"D F G B\")\n",
        "chord3.duration.type = 'half'\n",
        "chord1.show()                          # Just show one of these chords"
      ],
      "execution_count": 0,
      "outputs": []
    },
    {
      "cell_type": "code",
      "metadata": {
        "id": "k0vSL1KDS-6Z",
        "colab_type": "code",
        "colab": {}
      },
      "source": [
        "# Music21 can tell you quite useful things about any of the chords. For instance:\n",
        "chord3.show()\n",
        "print(chord3.commonName)\n",
        "print(chord3.quality)\n",
        "print(chord3.forteClass)\n",
        "print(chord3.orderedPitchClasses)"
      ],
      "execution_count": 0,
      "outputs": []
    },
    {
      "cell_type": "code",
      "metadata": {
        "id": "BkS5jTVHS-6b",
        "colab_type": "code",
        "colab": {}
      },
      "source": [
        "# We can analyse the chords in a key context and put the roman names into the score\n",
        "chord1.lyric = roman.romanNumeralFromChord(chord1, kc).figure\n",
        "chord2.lyric= roman.romanNumeralFromChord(chord2, kc).figure\n",
        "chord3.lyric= roman.romanNumeralFromChord(chord3, kc).figure\n",
        "chord1B.lyric= roman.romanNumeralFromChord(chord1B, kc).figure\n",
        "\n",
        "# Let's append the chords into a stream and look at the score with roman numerals.\n",
        "stream1 = stream.Stream()\n",
        "stream1.append(chord1)\n",
        "stream1.append(chord2)\n",
        "stream1.append(chord3)\n",
        "stream1.append(chord1B)\n",
        "stream1.show()"
      ],
      "execution_count": 0,
      "outputs": []
    },
    {
      "cell_type": "markdown",
      "metadata": {
        "id": "jbJtMpcjS-6e",
        "colab_type": "text"
      },
      "source": [
        "<span style=\"color:blue\"><B>LEARNING TASK</B>: Explore some more innovative chords by changing the pitches of the chords 1, 2 and 3. For instance, these chords were used by Elliott Carter frequently: C D- E F# and C D- E- G, or you might try jazz chords and neapolitan chord.</span>"
      ]
    },
    {
      "cell_type": "markdown",
      "metadata": {
        "id": "quBtnj4RS-6f",
        "colab_type": "text"
      },
      "source": [
        "### 5.2 Chord analysis\n",
        "We can use the chord analysis capacity of *Music21* to carry out harmonic analysis."
      ]
    },
    {
      "cell_type": "code",
      "metadata": {
        "id": "-FV0AhtHS-6g",
        "colab_type": "code",
        "colab": {}
      },
      "source": [
        "# You are all experts in analysis of Bach chorales, so let's try to analyse them.\n",
        "b = corpus.parse('bwv66.6') # We load a Bach Chorale BWV 66\n",
        "b.measures(0, 2).show()\n",
        "\n",
        "# Slice the chords for each beat with chordify\n",
        "bChords = b.chordify()\n",
        "bChords.metadata.movementName = 'Chord reduction'         # Put a label to the score\n",
        "bChords.measures(0, 2).show()\n",
        "\n",
        "#b.insert(0, bChords)\n",
        "\n",
        "for c in bChords.recurse().getElementsByClass('Chord'):   # This is to simplify the chords\n",
        "    c.closedPosition(forceOctave=4, inPlace=True)\n",
        "\n",
        "for c in bChords.recurse().getElementsByClass('Chord'):   # This is where the analysis happens\n",
        "    rn = roman.romanNumeralFromChord(c, key.Key('A'))\n",
        "    c.addLyric(str(rn.figure))\n",
        "\n",
        "bChords.metadata.movementName = 'Analysis with Roman Numerals'\n",
        "bChords.measures(0,2).show()\n"
      ],
      "execution_count": 0,
      "outputs": []
    },
    {
      "cell_type": "markdown",
      "metadata": {
        "id": "Tmdq3d1YS-6j",
        "colab_type": "text"
      },
      "source": [
        "<p style=\"border:3px; border-style:solid; border-color:#335EFF; padding: 1em;\">\n",
        "<span style=\"color:blue\"><B>LEARNING TASK</B>: Is this a plausible harmonic analysis of the chorale beginning? What happens in the last beat of the last bar? What is the III6 chord actually? If in doubt, expand the selection of bars to show how the chorale continues. Optionally, you could also check what another chorale analysis would look like. The music21 filenames of all chorales can be found at <A HREF=\"http://web.mit.edu/music21/doc/about/referenceCorpus.html\">http://web.mit.edu/music21/doc/about/referenceCorpus.html</A>. Don't forget to put the correct key into the analysis if you select another chorale. There is also an automatic way of estimating the key, which will be covered later.</span></p>"
      ]
    },
    {
      "cell_type": "markdown",
      "metadata": {
        "id": "gixk2MrmS-6k",
        "colab_type": "text"
      },
      "source": [
        "### 5.3 Analysis of twelve-tone rows (optional)\n",
        "There are also various build-in musical representations for famous historical (Webern, Berg) tone rows. These can be also analysed in terms of Fortean set-theoretical constructs. We are not going into these theories in this Module, but this is more of a demonstration of the versatility of *Music21*. "
      ]
    },
    {
      "cell_type": "code",
      "metadata": {
        "id": "2iP9_S-6S-6l",
        "colab_type": "code",
        "colab": {}
      },
      "source": [
        "# Load a twelve-tone row from Alban Berg's Violin Concerto  \n",
        "aRow = serial.getHistoricalRowByName('RowBergViolinConcerto')\n",
        "bStream = stream.Stream()\n",
        "# Display them as prime form pitch classes and Forte's set classes\n",
        "for i in range(0, 12, 3):\n",
        "    c = chord.Chord(aRow[i:i + 3])\n",
        "    c.addLyric(c.primeFormString)\n",
        "    c.addLyric(c.forteClass)\n",
        "    bStream.append(c)\n",
        "bStream.show()"
      ],
      "execution_count": 0,
      "outputs": []
    },
    {
      "cell_type": "markdown",
      "metadata": {
        "id": "KqrJ_FaDS-6n",
        "colab_type": "text"
      },
      "source": [
        "#### Summary\n",
        "* We learnt that *Music21* can infer chord qualities from any stacked collection of pitches.\n",
        "* If the key is known, any music can be reduced into slices of chords that can be turned into harmonic analysis.\n",
        "* *Music21* has a lot of set-theoretical and post-tonal analysis options."
      ]
    },
    {
      "cell_type": "markdown",
      "metadata": {
        "id": "Hb4FmDqjS-6n",
        "colab_type": "text"
      },
      "source": [
        "### 5.4 Metrical analysis\n",
        "Moving on to the temporal aspects of music, *Music21* has build-in metrical analysis module, which does Lerdahl-Jackendoff style metrical analysis. As you remember from your first year Analysis Module, this indicates how important are the different beats in the metrical hierarchy suggested by the time-signature."
      ]
    },
    {
      "cell_type": "code",
      "metadata": {
        "id": "38MI2sqZS-6o",
        "colab_type": "code",
        "colab": {}
      },
      "source": [
        "# Visualise metrical structures\n",
        "from music21.analysis import metrical\n",
        "\n",
        "# load a Bach Chorale from the music21 corpus of supplied pieces\n",
        "bwv30_6 = corpus.parse('bach/bwv30.6.xml')\n",
        "# get just the bass part\n",
        "bass = bwv30_6.getElementById('Bass')\n",
        "# get measures 1 through 10\n",
        "excerpt = bass.measures(1,10)\n",
        "# apply a Lerdahl/Jackendoff-style metrical analysis to the piece.\n",
        "metrical.labelBeatDepth(excerpt)\n",
        "# display the results\n",
        "excerpt.show()"
      ],
      "execution_count": 0,
      "outputs": []
    },
    {
      "cell_type": "markdown",
      "metadata": {
        "id": "QHiL3M-1S-6q",
        "colab_type": "text"
      },
      "source": [
        "### Summary\n",
        "* We explored simple harmonic analysis using chord and reduction functions in *Music21*.\n",
        "* An example of metrical analysis was given. \n",
        "* In *Music21* you can combine analytical options, which might be used to carry out a reduction of music based on metrical hierarchy just to give an example."
      ]
    },
    {
      "cell_type": "markdown",
      "metadata": {
        "id": "8FG475BdUaDl",
        "colab_type": "text"
      },
      "source": [
        "## 6 Next\n",
        "\n",
        "In the next demo we will look at [corpus analysis using music21](https://colab.research.google.com/github/tuomaseerola/music21/blob/master/corpus_demo.ipynb)."
      ]
    },
    {
      "cell_type": "markdown",
      "metadata": {
        "id": "aIeIlLrMS-7c",
        "colab_type": "text"
      },
      "source": [
        "## 7 References\n",
        "\n",
        "* Cuthbert, M. S., & Ariza, C. (2010). music21: A Toolkit for Computer-Aided Musicology and Symbolic Music Data. In J. Stephen Downie and Remco C. Veltkamp (Eds.). 11th International Society for Music Information Retrieval Conference (ISMIR 2010), August 9-13, 2010, Utrecht, Netherlands. pp. 637-642. [link](http://ismir2010.ismir.net/proceedings/ismir2010-108.pdf)\n",
        "\n",
        "* Cuthbert, M. S., Ariza, C., & Friedland, L. (2011). Feature Extraction and Machine Learning on Symbolic Music using the music21 Toolkit. In 11th International Society for Music Information Retrieval Conference (ISMIR 2011) (pp. 387--392). [link](http://ismir2011.ismir.net/papers/PS3-6.pdf)\n"
      ]
    }
  ]
}